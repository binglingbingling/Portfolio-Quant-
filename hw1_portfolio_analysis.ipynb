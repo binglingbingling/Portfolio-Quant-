{
 "cells": [
  {
   "cell_type": "code",
   "execution_count": 1,
   "metadata": {},
   "outputs": [
    {
     "name": "stderr",
     "output_type": "stream",
     "text": [
      "/Users/apple/anaconda3/lib/python3.6/site-packages/statsmodels/compat/pandas.py:56: FutureWarning: The pandas.core.datetools module is deprecated and will be removed in a future version. Please use the pandas.tseries module instead.\n",
      "  from pandas.core import datetools\n"
     ]
    }
   ],
   "source": [
    "import pandas as pd\n",
    "import numpy as np\n",
    "import scipy.stats as stats\n",
    "from scipy.stats import kurtosis\n",
    "from scipy.stats import skew\n",
    "from scipy.stats import kstest\n",
    "import matplotlib.pyplot as plt\n",
    "import statsmodels.api as sm\n",
    "import datetime\n",
    "import matplotlib.pyplot as plt\n",
    "import cvxopt as cvxopt\n",
    "from cvxopt import blas, solvers, matrix"
   ]
  },
  {
   "cell_type": "code",
   "execution_count": 2,
   "metadata": {
    "collapsed": true
   },
   "outputs": [],
   "source": [
    "xls = pd.ExcelFile('HW1_599.xlsx')\n",
    "df = pd.read_excel(xls, 'DataSource', parse_dates=[0,3])"
   ]
  },
  {
   "cell_type": "code",
   "execution_count": 3,
   "metadata": {
    "collapsed": true
   },
   "outputs": [],
   "source": [
    "df = df.drop(['Unnamed: 2'], axis=1)\n",
    "df.columns = df.iloc[0]\n",
    "df = df[1:]\n",
    "df.columns = ['vix_date', 'vix_price', 'spy_date','spy_price']"
   ]
  },
  {
   "cell_type": "code",
   "execution_count": 4,
   "metadata": {},
   "outputs": [
    {
     "data": {
      "text/html": [
       "<div>\n",
       "<style scoped>\n",
       "    .dataframe tbody tr th:only-of-type {\n",
       "        vertical-align: middle;\n",
       "    }\n",
       "\n",
       "    .dataframe tbody tr th {\n",
       "        vertical-align: top;\n",
       "    }\n",
       "\n",
       "    .dataframe thead th {\n",
       "        text-align: right;\n",
       "    }\n",
       "</style>\n",
       "<table border=\"1\" class=\"dataframe\">\n",
       "  <thead>\n",
       "    <tr style=\"text-align: right;\">\n",
       "      <th></th>\n",
       "      <th>vix_date</th>\n",
       "      <th>vix_price</th>\n",
       "      <th>spy_date</th>\n",
       "      <th>spy_price</th>\n",
       "    </tr>\n",
       "  </thead>\n",
       "  <tbody>\n",
       "    <tr>\n",
       "      <th>1</th>\n",
       "      <td>1999-01-15 00:00:00</td>\n",
       "      <td>29.24</td>\n",
       "      <td>1999-01-15 00:00:00</td>\n",
       "      <td>124.375</td>\n",
       "    </tr>\n",
       "    <tr>\n",
       "      <th>2</th>\n",
       "      <td>1999-01-19 00:00:00</td>\n",
       "      <td>29.24</td>\n",
       "      <td>1999-01-19 00:00:00</td>\n",
       "      <td>125.188</td>\n",
       "    </tr>\n",
       "    <tr>\n",
       "      <th>3</th>\n",
       "      <td>1999-01-20 00:00:00</td>\n",
       "      <td>28.6</td>\n",
       "      <td>1999-01-20 00:00:00</td>\n",
       "      <td>126.188</td>\n",
       "    </tr>\n",
       "    <tr>\n",
       "      <th>4</th>\n",
       "      <td>1999-01-21 00:00:00</td>\n",
       "      <td>30.92</td>\n",
       "      <td>1999-01-21 00:00:00</td>\n",
       "      <td>122.844</td>\n",
       "    </tr>\n",
       "    <tr>\n",
       "      <th>5</th>\n",
       "      <td>1999-01-22 00:00:00</td>\n",
       "      <td>31.95</td>\n",
       "      <td>1999-01-22 00:00:00</td>\n",
       "      <td>122.562</td>\n",
       "    </tr>\n",
       "  </tbody>\n",
       "</table>\n",
       "</div>"
      ],
      "text/plain": [
       "              vix_date vix_price             spy_date spy_price\n",
       "1  1999-01-15 00:00:00     29.24  1999-01-15 00:00:00   124.375\n",
       "2  1999-01-19 00:00:00     29.24  1999-01-19 00:00:00   125.188\n",
       "3  1999-01-20 00:00:00      28.6  1999-01-20 00:00:00   126.188\n",
       "4  1999-01-21 00:00:00     30.92  1999-01-21 00:00:00   122.844\n",
       "5  1999-01-22 00:00:00     31.95  1999-01-22 00:00:00   122.562"
      ]
     },
     "execution_count": 4,
     "metadata": {},
     "output_type": "execute_result"
    }
   ],
   "source": [
    "df.head()"
   ]
  },
  {
   "cell_type": "markdown",
   "metadata": {},
   "source": [
    "## 1.1 VIX daily return"
   ]
  },
  {
   "cell_type": "code",
   "execution_count": 5,
   "metadata": {
    "collapsed": true
   },
   "outputs": [],
   "source": [
    "df['vix_ret'] = df['vix_price'].pct_change()"
   ]
  },
  {
   "cell_type": "code",
   "execution_count": 6,
   "metadata": {},
   "outputs": [
    {
     "data": {
      "text/html": [
       "<div>\n",
       "<style scoped>\n",
       "    .dataframe tbody tr th:only-of-type {\n",
       "        vertical-align: middle;\n",
       "    }\n",
       "\n",
       "    .dataframe tbody tr th {\n",
       "        vertical-align: top;\n",
       "    }\n",
       "\n",
       "    .dataframe thead th {\n",
       "        text-align: right;\n",
       "    }\n",
       "</style>\n",
       "<table border=\"1\" class=\"dataframe\">\n",
       "  <thead>\n",
       "    <tr style=\"text-align: right;\">\n",
       "      <th></th>\n",
       "      <th>vix_date</th>\n",
       "      <th>vix_price</th>\n",
       "      <th>spy_date</th>\n",
       "      <th>spy_price</th>\n",
       "      <th>vix_ret</th>\n",
       "    </tr>\n",
       "  </thead>\n",
       "  <tbody>\n",
       "    <tr>\n",
       "      <th>1</th>\n",
       "      <td>1999-01-15 00:00:00</td>\n",
       "      <td>29.24</td>\n",
       "      <td>1999-01-15 00:00:00</td>\n",
       "      <td>124.375</td>\n",
       "      <td>NaN</td>\n",
       "    </tr>\n",
       "    <tr>\n",
       "      <th>2</th>\n",
       "      <td>1999-01-19 00:00:00</td>\n",
       "      <td>29.24</td>\n",
       "      <td>1999-01-19 00:00:00</td>\n",
       "      <td>125.188</td>\n",
       "      <td>0.000000</td>\n",
       "    </tr>\n",
       "    <tr>\n",
       "      <th>3</th>\n",
       "      <td>1999-01-20 00:00:00</td>\n",
       "      <td>28.6</td>\n",
       "      <td>1999-01-20 00:00:00</td>\n",
       "      <td>126.188</td>\n",
       "      <td>-0.021888</td>\n",
       "    </tr>\n",
       "    <tr>\n",
       "      <th>4</th>\n",
       "      <td>1999-01-21 00:00:00</td>\n",
       "      <td>30.92</td>\n",
       "      <td>1999-01-21 00:00:00</td>\n",
       "      <td>122.844</td>\n",
       "      <td>0.081119</td>\n",
       "    </tr>\n",
       "    <tr>\n",
       "      <th>5</th>\n",
       "      <td>1999-01-22 00:00:00</td>\n",
       "      <td>31.95</td>\n",
       "      <td>1999-01-22 00:00:00</td>\n",
       "      <td>122.562</td>\n",
       "      <td>0.033312</td>\n",
       "    </tr>\n",
       "  </tbody>\n",
       "</table>\n",
       "</div>"
      ],
      "text/plain": [
       "              vix_date vix_price             spy_date spy_price   vix_ret\n",
       "1  1999-01-15 00:00:00     29.24  1999-01-15 00:00:00   124.375       NaN\n",
       "2  1999-01-19 00:00:00     29.24  1999-01-19 00:00:00   125.188  0.000000\n",
       "3  1999-01-20 00:00:00      28.6  1999-01-20 00:00:00   126.188 -0.021888\n",
       "4  1999-01-21 00:00:00     30.92  1999-01-21 00:00:00   122.844  0.081119\n",
       "5  1999-01-22 00:00:00     31.95  1999-01-22 00:00:00   122.562  0.033312"
      ]
     },
     "execution_count": 6,
     "metadata": {},
     "output_type": "execute_result"
    }
   ],
   "source": [
    "df.head()"
   ]
  },
  {
   "cell_type": "markdown",
   "metadata": {},
   "source": [
    "## 1.2 moments (mean,skewness, and kurtosis) for the VIX daily returns"
   ]
  },
  {
   "cell_type": "code",
   "execution_count": 7,
   "metadata": {},
   "outputs": [
    {
     "data": {
      "text/plain": [
       "0.002357136485960589"
      ]
     },
     "execution_count": 7,
     "metadata": {},
     "output_type": "execute_result"
    }
   ],
   "source": [
    "np.mean(df['vix_ret'][1:])"
   ]
  },
  {
   "cell_type": "code",
   "execution_count": 8,
   "metadata": {},
   "outputs": [
    {
     "data": {
      "text/plain": [
       "0.07134192299501821"
      ]
     },
     "execution_count": 8,
     "metadata": {},
     "output_type": "execute_result"
    }
   ],
   "source": [
    "np.std(df['vix_ret'][1:])"
   ]
  },
  {
   "cell_type": "code",
   "execution_count": 9,
   "metadata": {},
   "outputs": [
    {
     "data": {
      "text/plain": [
       "2.0141811943320107"
      ]
     },
     "execution_count": 9,
     "metadata": {},
     "output_type": "execute_result"
    }
   ],
   "source": [
    "skew(df['vix_ret'][1:])"
   ]
  },
  {
   "cell_type": "code",
   "execution_count": 10,
   "metadata": {},
   "outputs": [
    {
     "data": {
      "text/plain": [
       "19.282112081195784"
      ]
     },
     "execution_count": 10,
     "metadata": {},
     "output_type": "execute_result"
    }
   ],
   "source": [
    "kurtosis(df['vix_ret'][1:])"
   ]
  },
  {
   "cell_type": "markdown",
   "metadata": {},
   "source": [
    "## 1.3 test whether the VIX daily returns were normally distributed or not. "
   ]
  },
  {
   "cell_type": "code",
   "execution_count": 11,
   "metadata": {},
   "outputs": [
    {
     "data": {
      "image/png": "[encoded data removed]",
      "text/plain": [
       "<matplotlib.figure.Figure at 0x112f3e9b0>"
      ]
     },
     "metadata": {},
     "output_type": "display_data"
    }
   ],
   "source": [
    "plt.hist(df['vix_ret'][1:],bins=300)\n",
    "plt.show()"
   ]
  },
  {
   "cell_type": "code",
   "execution_count": 12,
   "metadata": {},
   "outputs": [
    {
     "data": {
      "image/png": "[encoded data removed]",
      "text/plain": [
       "<matplotlib.figure.Figure at 0x112fe3160>"
      ]
     },
     "metadata": {},
     "output_type": "display_data"
    }
   ],
   "source": [
    "sm.qqplot(df['vix_ret'][1:], line='q')\n",
    "plt.show()"
   ]
  },
  {
   "cell_type": "code",
   "execution_count": 13,
   "metadata": {},
   "outputs": [
    {
     "data": {
      "text/plain": [
       "KstestResult(statistic=0.43284430209658664, pvalue=0.0)"
      ]
     },
     "execution_count": 13,
     "metadata": {},
     "output_type": "execute_result"
    }
   ],
   "source": [
    "kstest(df['vix_ret'][1:],'norm')"
   ]
  },
  {
   "cell_type": "markdown",
   "metadata": {},
   "source": [
    "Pvalue of KS test less than 0.05 so we can reject null. It is not normal distributed "
   ]
  },
  {
   "cell_type": "markdown",
   "metadata": {},
   "source": [
    "## 2.1  rolling 252-day annualied SPY return volatilities, and plot the time series"
   ]
  },
  {
   "cell_type": "code",
   "execution_count": 14,
   "metadata": {
    "collapsed": true
   },
   "outputs": [],
   "source": [
    "df['spy_ret'] = df['spy_price'].pct_change()"
   ]
  },
  {
   "cell_type": "code",
   "execution_count": 15,
   "metadata": {
    "collapsed": true
   },
   "outputs": [],
   "source": [
    "df['252_spy_vol'] = df['spy_ret'].rolling(252).std()*np.sqrt(252)"
   ]
  },
  {
   "cell_type": "code",
   "execution_count": 16,
   "metadata": {},
   "outputs": [
    {
     "data": {
      "image/png": "[encoded data removed]",
      "text/plain": [
       "<matplotlib.figure.Figure at 0x1173bd320>"
      ]
     },
     "metadata": {},
     "output_type": "display_data"
    }
   ],
   "source": [
    "plt.figure(figsize=(12,6))\n",
    "df['252_spy_vol'].plot()\n",
    "plt.show()"
   ]
  },
  {
   "cell_type": "markdown",
   "metadata": {},
   "source": [
    "## 2.2  rolling 252-day annualied SPY return semi-volatilities, and plot the time series"
   ]
  },
  {
   "cell_type": "code",
   "execution_count": 17,
   "metadata": {
    "collapsed": true
   },
   "outputs": [],
   "source": [
    "df['spy_ret_neg'] = df[df['spy_ret']<0]['spy_ret']\n",
    "df['spy_ret_neg'] = df['spy_ret_neg'].fillna(0)"
   ]
  },
  {
   "cell_type": "code",
   "execution_count": 18,
   "metadata": {
    "collapsed": true
   },
   "outputs": [],
   "source": [
    "df['252_spy_semivol'] = df['spy_ret_neg'].rolling(252).std()*np.sqrt(252)"
   ]
  },
  {
   "cell_type": "code",
   "execution_count": 19,
   "metadata": {},
   "outputs": [
    {
     "data": {
      "image/png": "[encoded data removed]",
      "text/plain": [
       "<matplotlib.figure.Figure at 0x112f2f748>"
      ]
     },
     "metadata": {},
     "output_type": "display_data"
    }
   ],
   "source": [
    "plt.figure(figsize=(12,6))\n",
    "df['252_spy_semivol'].plot()\n",
    "plt.show()"
   ]
  },
  {
   "cell_type": "markdown",
   "metadata": {},
   "source": [
    "## 2.3 A). calculate its shortfall probability for a daily return less than -2%; B). Value at Risk at 95% for daily return; C). CVaR-95% for daily return."
   ]
  },
  {
   "cell_type": "code",
   "execution_count": 20,
   "metadata": {
    "collapsed": true
   },
   "outputs": [],
   "source": [
    "df['spy_year'] = pd.to_datetime(df['spy_date']).dt.to_period('Y').astype(str)"
   ]
  },
  {
   "cell_type": "code",
   "execution_count": 21,
   "metadata": {
    "collapsed": true
   },
   "outputs": [],
   "source": [
    "df2018 = df[df['spy_year']=='2018']"
   ]
  },
  {
   "cell_type": "code",
   "execution_count": 22,
   "metadata": {},
   "outputs": [
    {
     "data": {
      "text/html": [
       "<div>\n",
       "<style scoped>\n",
       "    .dataframe tbody tr th:only-of-type {\n",
       "        vertical-align: middle;\n",
       "    }\n",
       "\n",
       "    .dataframe tbody tr th {\n",
       "        vertical-align: top;\n",
       "    }\n",
       "\n",
       "    .dataframe thead th {\n",
       "        text-align: right;\n",
       "    }\n",
       "</style>\n",
       "<table border=\"1\" class=\"dataframe\">\n",
       "  <thead>\n",
       "    <tr style=\"text-align: right;\">\n",
       "      <th></th>\n",
       "      <th>vix_date</th>\n",
       "      <th>vix_price</th>\n",
       "      <th>spy_date</th>\n",
       "      <th>spy_price</th>\n",
       "      <th>vix_ret</th>\n",
       "      <th>spy_ret</th>\n",
       "      <th>252_spy_vol</th>\n",
       "      <th>spy_ret_neg</th>\n",
       "      <th>252_spy_semivol</th>\n",
       "      <th>spy_year</th>\n",
       "    </tr>\n",
       "  </thead>\n",
       "  <tbody>\n",
       "    <tr>\n",
       "      <th>4772</th>\n",
       "      <td>2018-01-02 00:00:00</td>\n",
       "      <td>9.77</td>\n",
       "      <td>2018-01-02 00:00:00</td>\n",
       "      <td>268.77</td>\n",
       "      <td>-0.115036</td>\n",
       "      <td>0.007157</td>\n",
       "      <td>0.067881</td>\n",
       "      <td>0.0</td>\n",
       "      <td>0.039094</td>\n",
       "      <td>2018</td>\n",
       "    </tr>\n",
       "    <tr>\n",
       "      <th>4773</th>\n",
       "      <td>2018-01-03 00:00:00</td>\n",
       "      <td>9.15</td>\n",
       "      <td>2018-01-03 00:00:00</td>\n",
       "      <td>270.47</td>\n",
       "      <td>-0.063460</td>\n",
       "      <td>0.006325</td>\n",
       "      <td>0.067758</td>\n",
       "      <td>0.0</td>\n",
       "      <td>0.039094</td>\n",
       "      <td>2018</td>\n",
       "    </tr>\n",
       "    <tr>\n",
       "      <th>4774</th>\n",
       "      <td>2018-01-04 00:00:00</td>\n",
       "      <td>9.22</td>\n",
       "      <td>2018-01-04 00:00:00</td>\n",
       "      <td>271.61</td>\n",
       "      <td>0.007650</td>\n",
       "      <td>0.004215</td>\n",
       "      <td>0.067646</td>\n",
       "      <td>0.0</td>\n",
       "      <td>0.039094</td>\n",
       "      <td>2018</td>\n",
       "    </tr>\n",
       "    <tr>\n",
       "      <th>4775</th>\n",
       "      <td>2018-01-05 00:00:00</td>\n",
       "      <td>9.22</td>\n",
       "      <td>2018-01-05 00:00:00</td>\n",
       "      <td>273.42</td>\n",
       "      <td>0.000000</td>\n",
       "      <td>0.006664</td>\n",
       "      <td>0.067889</td>\n",
       "      <td>0.0</td>\n",
       "      <td>0.039110</td>\n",
       "      <td>2018</td>\n",
       "    </tr>\n",
       "    <tr>\n",
       "      <th>4776</th>\n",
       "      <td>2018-01-08 00:00:00</td>\n",
       "      <td>9.52</td>\n",
       "      <td>2018-01-08 00:00:00</td>\n",
       "      <td>273.92</td>\n",
       "      <td>0.032538</td>\n",
       "      <td>0.001829</td>\n",
       "      <td>0.067838</td>\n",
       "      <td>0.0</td>\n",
       "      <td>0.039110</td>\n",
       "      <td>2018</td>\n",
       "    </tr>\n",
       "  </tbody>\n",
       "</table>\n",
       "</div>"
      ],
      "text/plain": [
       "                 vix_date vix_price             spy_date spy_price   vix_ret  \\\n",
       "4772  2018-01-02 00:00:00      9.77  2018-01-02 00:00:00    268.77 -0.115036   \n",
       "4773  2018-01-03 00:00:00      9.15  2018-01-03 00:00:00    270.47 -0.063460   \n",
       "4774  2018-01-04 00:00:00      9.22  2018-01-04 00:00:00    271.61  0.007650   \n",
       "4775  2018-01-05 00:00:00      9.22  2018-01-05 00:00:00    273.42  0.000000   \n",
       "4776  2018-01-08 00:00:00      9.52  2018-01-08 00:00:00    273.92  0.032538   \n",
       "\n",
       "       spy_ret  252_spy_vol  spy_ret_neg  252_spy_semivol spy_year  \n",
       "4772  0.007157     0.067881          0.0         0.039094     2018  \n",
       "4773  0.006325     0.067758          0.0         0.039094     2018  \n",
       "4774  0.004215     0.067646          0.0         0.039094     2018  \n",
       "4775  0.006664     0.067889          0.0         0.039110     2018  \n",
       "4776  0.001829     0.067838          0.0         0.039110     2018  "
      ]
     },
     "execution_count": 22,
     "metadata": {},
     "output_type": "execute_result"
    }
   ],
   "source": [
    "df2018.head()"
   ]
  },
  {
   "cell_type": "code",
   "execution_count": 23,
   "metadata": {
    "collapsed": true
   },
   "outputs": [],
   "source": [
    "shortfall_probdf = len(df2018[df2018['spy_ret']<-0.02])/len(df2018['spy_ret'])"
   ]
  },
  {
   "cell_type": "code",
   "execution_count": 24,
   "metadata": {},
   "outputs": [
    {
     "data": {
      "text/plain": [
       "0.055776892430278883"
      ]
     },
     "execution_count": 24,
     "metadata": {},
     "output_type": "execute_result"
    }
   ],
   "source": [
    "shortfall_probdf"
   ]
  },
  {
   "cell_type": "code",
   "execution_count": 25,
   "metadata": {},
   "outputs": [
    {
     "data": {
      "text/plain": [
       "-0.021314521940304143"
      ]
     },
     "execution_count": 25,
     "metadata": {},
     "output_type": "execute_result"
    }
   ],
   "source": [
    "var = df2018['spy_ret'].quantile(0.05, interpolation='higher')\n",
    "var"
   ]
  },
  {
   "cell_type": "code",
   "execution_count": 26,
   "metadata": {},
   "outputs": [
    {
     "data": {
      "text/plain": [
       "-0.02786116034896852"
      ]
     },
     "execution_count": 26,
     "metadata": {},
     "output_type": "execute_result"
    }
   ],
   "source": [
    "cvar = df2018[df2018['spy_ret']<var]['spy_ret'].mean()\n",
    "cvar"
   ]
  },
  {
   "cell_type": "markdown",
   "metadata": {},
   "source": [
    "## 2.4 Calculate drawdowns for the SPY price times series, plot the drawdown time series, and locate the maximum drawdown for the whole period"
   ]
  },
  {
   "cell_type": "code",
   "execution_count": 27,
   "metadata": {
    "collapsed": true
   },
   "outputs": [],
   "source": [
    "df['drawdown']=(df['spy_ret']+1).cumprod()/(df['spy_ret']+1).cumprod().cummax()-1"
   ]
  },
  {
   "cell_type": "code",
   "execution_count": 28,
   "metadata": {},
   "outputs": [
    {
     "data": {
      "image/png": "[encoded data removed]",
      "text/plain": [
       "<matplotlib.figure.Figure at 0x11789d128>"
      ]
     },
     "metadata": {},
     "output_type": "display_data"
    }
   ],
   "source": [
    "plt.figure(figsize=(12,6))\n",
    "df['drawdown'].plot()\n",
    "plt.show()"
   ]
  },
  {
   "cell_type": "code",
   "execution_count": 29,
   "metadata": {},
   "outputs": [
    {
     "data": {
      "text/html": [
       "<div>\n",
       "<style scoped>\n",
       "    .dataframe tbody tr th:only-of-type {\n",
       "        vertical-align: middle;\n",
       "    }\n",
       "\n",
       "    .dataframe tbody tr th {\n",
       "        vertical-align: top;\n",
       "    }\n",
       "\n",
       "    .dataframe thead th {\n",
       "        text-align: right;\n",
       "    }\n",
       "</style>\n",
       "<table border=\"1\" class=\"dataframe\">\n",
       "  <thead>\n",
       "    <tr style=\"text-align: right;\">\n",
       "      <th></th>\n",
       "      <th>spy_date</th>\n",
       "      <th>drawdown</th>\n",
       "    </tr>\n",
       "  </thead>\n",
       "  <tbody>\n",
       "    <tr>\n",
       "      <th>2551</th>\n",
       "      <td>2009-03-09 00:00:00</td>\n",
       "      <td>-0.564737</td>\n",
       "    </tr>\n",
       "  </tbody>\n",
       "</table>\n",
       "</div>"
      ],
      "text/plain": [
       "                 spy_date  drawdown\n",
       "2551  2009-03-09 00:00:00 -0.564737"
      ]
     },
     "execution_count": 29,
     "metadata": {},
     "output_type": "execute_result"
    }
   ],
   "source": [
    "df[df['drawdown']==np.min(df['drawdown'])][['spy_date','drawdown']]"
   ]
  },
  {
   "cell_type": "markdown",
   "metadata": {},
   "source": [
    "## 3.1 Run an optimization to locate the minimum-variance portfolio on the new frontier."
   ]
  },
  {
   "cell_type": "code",
   "execution_count": 40,
   "metadata": {
    "collapsed": true
   },
   "outputs": [],
   "source": [
    "df2 = pd.read_excel(xls, 'DataSource_CAPMAssetClasses', parse_dates=[0,3])\n",
    "df2.columns = df2.iloc[0]\n",
    "df2 = df2[1:]\n",
    "cols = df2.columns\n",
    "df2[cols] = df2[cols].apply(pd.to_numeric, errors='coerce', axis=1)"
   ]
  },
  {
   "cell_type": "code",
   "execution_count": 41,
   "metadata": {},
   "outputs": [
    {
     "data": {
      "text/html": [
       "<div>\n",
       "<style scoped>\n",
       "    .dataframe tbody tr th:only-of-type {\n",
       "        vertical-align: middle;\n",
       "    }\n",
       "\n",
       "    .dataframe tbody tr th {\n",
       "        vertical-align: top;\n",
       "    }\n",
       "\n",
       "    .dataframe thead th {\n",
       "        text-align: right;\n",
       "    }\n",
       "</style>\n",
       "<table border=\"1\" class=\"dataframe\">\n",
       "  <thead>\n",
       "    <tr style=\"text-align: right;\">\n",
       "      <th>Period Ending</th>\n",
       "      <th>Bloomberg Barclays - U.S. TIPS Index</th>\n",
       "      <th>Bloomberg Barclays - U.S. Aggregate Index</th>\n",
       "      <th>BofA Merrill Lynch - U.S. High Yield Index</th>\n",
       "      <th>FTSE - Non U.S. Govt Bond Index ($)</th>\n",
       "      <th>Russell - 1000 Growth Index</th>\n",
       "      <th>Russell - 1000 Value Index</th>\n",
       "      <th>Russell - 2000 Growth Index</th>\n",
       "      <th>Russell - 2000 Value Index</th>\n",
       "      <th>MSCI - EAFE Index ($Net)</th>\n",
       "      <th>MSCI - Emerging Markets Index ($ Net)</th>\n",
       "      <th>S&amp;P - GSCI Total Index</th>\n",
       "      <th>MSCI - U.S. REIT Index</th>\n",
       "    </tr>\n",
       "  </thead>\n",
       "  <tbody>\n",
       "    <tr>\n",
       "      <th>1999-01-31 00:00:00</th>\n",
       "      <td>1.164369</td>\n",
       "      <td>0.71</td>\n",
       "      <td>1.35</td>\n",
       "      <td>-1.57</td>\n",
       "      <td>5.87</td>\n",
       "      <td>0.80</td>\n",
       "      <td>4.50</td>\n",
       "      <td>-2.27</td>\n",
       "      <td>-0.30</td>\n",
       "      <td>-1.507453</td>\n",
       "      <td>0.440000</td>\n",
       "      <td>-2.685540</td>\n",
       "    </tr>\n",
       "    <tr>\n",
       "      <th>1999-02-28 00:00:00</th>\n",
       "      <td>-0.698657</td>\n",
       "      <td>-1.75</td>\n",
       "      <td>-0.68</td>\n",
       "      <td>-3.51</td>\n",
       "      <td>-4.57</td>\n",
       "      <td>-1.41</td>\n",
       "      <td>-9.15</td>\n",
       "      <td>-6.83</td>\n",
       "      <td>-2.38</td>\n",
       "      <td>0.963531</td>\n",
       "      <td>-4.600000</td>\n",
       "      <td>-1.644916</td>\n",
       "    </tr>\n",
       "    <tr>\n",
       "      <th>1999-03-31 00:00:00</th>\n",
       "      <td>-0.014495</td>\n",
       "      <td>0.55</td>\n",
       "      <td>1.16</td>\n",
       "      <td>0.19</td>\n",
       "      <td>5.27</td>\n",
       "      <td>2.07</td>\n",
       "      <td>3.56</td>\n",
       "      <td>-0.82</td>\n",
       "      <td>4.17</td>\n",
       "      <td>13.214558</td>\n",
       "      <td>16.879999</td>\n",
       "      <td>-0.545957</td>\n",
       "    </tr>\n",
       "    <tr>\n",
       "      <th>1999-04-30 00:00:00</th>\n",
       "      <td>0.661948</td>\n",
       "      <td>0.32</td>\n",
       "      <td>1.83</td>\n",
       "      <td>-0.15</td>\n",
       "      <td>0.13</td>\n",
       "      <td>9.34</td>\n",
       "      <td>8.83</td>\n",
       "      <td>9.13</td>\n",
       "      <td>4.05</td>\n",
       "      <td>12.370000</td>\n",
       "      <td>4.130000</td>\n",
       "      <td>9.669238</td>\n",
       "    </tr>\n",
       "    <tr>\n",
       "      <th>1999-05-31 00:00:00</th>\n",
       "      <td>0.688692</td>\n",
       "      <td>-0.88</td>\n",
       "      <td>-0.92</td>\n",
       "      <td>-2.02</td>\n",
       "      <td>-3.07</td>\n",
       "      <td>-1.10</td>\n",
       "      <td>0.16</td>\n",
       "      <td>3.07</td>\n",
       "      <td>-5.15</td>\n",
       "      <td>-0.580000</td>\n",
       "      <td>-5.460000</td>\n",
       "      <td>2.119436</td>\n",
       "    </tr>\n",
       "  </tbody>\n",
       "</table>\n",
       "</div>"
      ],
      "text/plain": [
       "Period Ending        Bloomberg Barclays - U.S. TIPS Index  \\\n",
       "1999-01-31 00:00:00                              1.164369   \n",
       "1999-02-28 00:00:00                             -0.698657   \n",
       "1999-03-31 00:00:00                             -0.014495   \n",
       "1999-04-30 00:00:00                              0.661948   \n",
       "1999-05-31 00:00:00                              0.688692   \n",
       "\n",
       "Period Ending        Bloomberg Barclays - U.S. Aggregate Index  \\\n",
       "1999-01-31 00:00:00                                       0.71   \n",
       "1999-02-28 00:00:00                                      -1.75   \n",
       "1999-03-31 00:00:00                                       0.55   \n",
       "1999-04-30 00:00:00                                       0.32   \n",
       "1999-05-31 00:00:00                                      -0.88   \n",
       "\n",
       "Period Ending        BofA Merrill Lynch - U.S. High Yield Index  \\\n",
       "1999-01-31 00:00:00                                        1.35   \n",
       "1999-02-28 00:00:00                                       -0.68   \n",
       "1999-03-31 00:00:00                                        1.16   \n",
       "1999-04-30 00:00:00                                        1.83   \n",
       "1999-05-31 00:00:00                                       -0.92   \n",
       "\n",
       "Period Ending        FTSE - Non U.S. Govt Bond Index ($)  \\\n",
       "1999-01-31 00:00:00                                -1.57   \n",
       "1999-02-28 00:00:00                                -3.51   \n",
       "1999-03-31 00:00:00                                 0.19   \n",
       "1999-04-30 00:00:00                                -0.15   \n",
       "1999-05-31 00:00:00                                -2.02   \n",
       "\n",
       "Period Ending        Russell - 1000 Growth Index  Russell - 1000 Value Index  \\\n",
       "1999-01-31 00:00:00                         5.87                        0.80   \n",
       "1999-02-28 00:00:00                        -4.57                       -1.41   \n",
       "1999-03-31 00:00:00                         5.27                        2.07   \n",
       "1999-04-30 00:00:00                         0.13                        9.34   \n",
       "1999-05-31 00:00:00                        -3.07                       -1.10   \n",
       "\n",
       "Period Ending        Russell - 2000 Growth Index  Russell - 2000 Value Index  \\\n",
       "1999-01-31 00:00:00                         4.50                       -2.27   \n",
       "1999-02-28 00:00:00                        -9.15                       -6.83   \n",
       "1999-03-31 00:00:00                         3.56                       -0.82   \n",
       "1999-04-30 00:00:00                         8.83                        9.13   \n",
       "1999-05-31 00:00:00                         0.16                        3.07   \n",
       "\n",
       "Period Ending        MSCI - EAFE Index ($Net)  \\\n",
       "1999-01-31 00:00:00                     -0.30   \n",
       "1999-02-28 00:00:00                     -2.38   \n",
       "1999-03-31 00:00:00                      4.17   \n",
       "1999-04-30 00:00:00                      4.05   \n",
       "1999-05-31 00:00:00                     -5.15   \n",
       "\n",
       "Period Ending        MSCI - Emerging Markets Index ($ Net)  \\\n",
       "1999-01-31 00:00:00                              -1.507453   \n",
       "1999-02-28 00:00:00                               0.963531   \n",
       "1999-03-31 00:00:00                              13.214558   \n",
       "1999-04-30 00:00:00                              12.370000   \n",
       "1999-05-31 00:00:00                              -0.580000   \n",
       "\n",
       "Period Ending        S&P - GSCI Total Index  MSCI - U.S. REIT Index  \n",
       "1999-01-31 00:00:00                0.440000               -2.685540  \n",
       "1999-02-28 00:00:00               -4.600000               -1.644916  \n",
       "1999-03-31 00:00:00               16.879999               -0.545957  \n",
       "1999-04-30 00:00:00                4.130000                9.669238  \n",
       "1999-05-31 00:00:00               -5.460000                2.119436  "
      ]
     },
     "execution_count": 41,
     "metadata": {},
     "output_type": "execute_result"
    }
   ],
   "source": [
    "df2.head()"
   ]
  },
  {
   "cell_type": "code",
   "execution_count": 42,
   "metadata": {
    "collapsed": true
   },
   "outputs": [],
   "source": [
    "def optimize_portfolio(n, avg_ret, covs,r_min):\n",
    "    P = matrix(covs)\n",
    "    q=matrix(np.zeros(n))\n",
    "    G=matrix(-1*np.eye(n)) \n",
    "    h=matrix(np.zeros(n))\n",
    "    A=matrix(np.array([avg_ret,np.ones(n)]))\n",
    "    b = matrix([r_min,1.0])\n",
    "    sol = cvxopt.solvers.qp(P,q,G,h,A,b,options={'show_progress':False})\n",
    "    weight = list(sol['x'])\n",
    "    std=np.sqrt(sol['primal objective']*2)\n",
    "    return std,weight"
   ]
  },
  {
   "cell_type": "code",
   "execution_count": 43,
   "metadata": {
    "collapsed": true
   },
   "outputs": [],
   "source": [
    "def optimize_portfolio_with_short(n, avg_ret, covs,r_min):\n",
    "    P = matrix(covs)\n",
    "    q=matrix(np.zeros(n))\n",
    "    G=matrix(np.zeros([n,n])) \n",
    "    h=matrix(np.zeros(n))\n",
    "    A=matrix(np.array([avg_ret,np.ones(n)]))\n",
    "    b = matrix([r_min,1.0])\n",
    "    sol = cvxopt.solvers.qp(P,q,G,h,A,b,options={'show_progress':False})\n",
    "    weight = list(sol['x'])\n",
    "    std=np.sqrt(sol['primal objective']*2)\n",
    "    return std,weight"
   ]
  },
  {
   "cell_type": "code",
   "execution_count": 44,
   "metadata": {},
   "outputs": [
    {
     "data": {
      "text/plain": [
       "array([  5.2451825 ,   4.5136965 ,   6.53156295,   3.6777377 ,\n",
       "         6.34985075,   7.05579735,   8.4745013 ,   9.5519761 ,\n",
       "         4.81835   ,  10.60893805,   3.14656425,  11.49096465])"
      ]
     },
     "execution_count": 44,
     "metadata": {},
     "output_type": "execute_result"
    }
   ],
   "source": [
    "n = 12\n",
    "means=np.array(df2.mean()*n)\n",
    "means"
   ]
  },
  {
   "cell_type": "code",
   "execution_count": 45,
   "metadata": {},
   "outputs": [],
   "source": [
    "covs=np.array(df2.cov()*n)\n",
    "means=np.array(df2.mean()*n)\n",
    "ret = [x/100 for x in range(300,1200)]\n",
    "std_f = 1000\n",
    "weight_minvar = np.zeros(12)\n",
    "ret_opt = 0\n",
    "for r_min in ret:\n",
    "    std,weight= optimize_portfolio(n, means, covs,r_min)\n",
    "    if std<std_f:\n",
    "        std_f = std\n",
    "        weight_minvar = weight\n",
    "        ret_opt = r_min"
   ]
  },
  {
   "cell_type": "code",
   "execution_count": 46,
   "metadata": {},
   "outputs": [
    {
     "data": {
      "text/plain": [
       "4.65"
      ]
     },
     "execution_count": 46,
     "metadata": {},
     "output_type": "execute_result"
    }
   ],
   "source": [
    "ret_opt"
   ]
  },
  {
   "cell_type": "code",
   "execution_count": 47,
   "metadata": {},
   "outputs": [
    {
     "data": {
      "text/plain": [
       "[1.3283671929434165e-09,\n",
       " 0.9264906042241658,\n",
       " 2.3901012041696376e-10,\n",
       " 5.954146825090524e-10,\n",
       " 0.012958812690184365,\n",
       " 0.03888401488205899,\n",
       " 0.008123782555722901,\n",
       " 1.0391869580860733e-08,\n",
       " 1.2706961361350939e-09,\n",
       " 2.992437814136145e-09,\n",
       " 0.013542768726797563,\n",
       " 1.0327484266094103e-10]"
      ]
     },
     "execution_count": 47,
     "metadata": {},
     "output_type": "execute_result"
    }
   ],
   "source": [
    "weight_minvar"
   ]
  },
  {
   "cell_type": "markdown",
   "metadata": {},
   "source": [
    "## 2A. Run optimizations to locate two other efficient portfolios different than the minimum-variance portfolio"
   ]
  },
  {
   "cell_type": "code",
   "execution_count": 48,
   "metadata": {},
   "outputs": [
    {
     "data": {
      "text/plain": [
       "[0.15478751283432524,\n",
       " 0.6131735465888063,\n",
       " 2.19510021555986e-07,\n",
       " 7.929680577462979e-11,\n",
       " 1.7019893115432124e-09,\n",
       " 9.478356397230582e-10,\n",
       " 4.848937926184835e-10,\n",
       " 0.09847953326209054,\n",
       " -1.8977647678661317e-10,\n",
       " 0.06231953422593871,\n",
       " 3.7822013467628684e-09,\n",
       " 0.07123964677237725]"
      ]
     },
     "execution_count": 48,
     "metadata": {},
     "output_type": "execute_result"
    }
   ],
   "source": [
    "ret1 = 6\n",
    "std1,weight1= optimize_portfolio(n, means, covs,ret1)\n",
    "weight1"
   ]
  },
  {
   "cell_type": "code",
   "execution_count": 49,
   "metadata": {},
   "outputs": [
    {
     "data": {
      "text/plain": [
       "[0.5117631076745152,\n",
       " 7.488884320521562e-07,\n",
       " 1.1700625002119294e-07,\n",
       " 1.550561404239225e-08,\n",
       " 1.2430383541211578e-08,\n",
       " 2.025382891265965e-08,\n",
       " 2.134597643211013e-08,\n",
       " 0.08398574184705136,\n",
       " 6.361663441648602e-09,\n",
       " 0.14937185681382253,\n",
       " 2.8408681431801363e-08,\n",
       " 0.25487832346378114]"
      ]
     },
     "execution_count": 49,
     "metadata": {},
     "output_type": "execute_result"
    }
   ],
   "source": [
    "ret2 = 8\n",
    "std2,weight2= optimize_portfolio(n, means, covs,ret2)\n",
    "weight2"
   ]
  },
  {
   "cell_type": "markdown",
   "metadata": {},
   "source": [
    "## 2B. Prove or disprove the minimum-variance portfolio can be represented as a combination of the two portfolios found on 2A."
   ]
  },
  {
   "attachments": {},
   "cell_type": "markdown",
   "metadata": {},
   "source": [
    "define new_weight = w * weight1 + (1-w) * weight2 \n",
    "then calculate return and volatility respectvely, the new_weight still the minimum variance weight\n",
    "Therefore, I prove that minimum-variance portfolio can be represented as a combination of the two portfolios found on 2A\n"
   ]
  },
  {
   "cell_type": "markdown",
   "metadata": {},
   "source": [
    "## 3. Plot both the old efficient frontier without the short-sell constraint and the new efficient frontier with the short-sell constraint on the same graph."
   ]
  },
  {
   "cell_type": "code",
   "execution_count": 50,
   "metadata": {},
   "outputs": [
    {
     "data": {
      "image/png": "[encoded data removed]",
      "text/plain": [
       "<matplotlib.figure.Figure at 0x117382cc0>"
      ]
     },
     "metadata": {},
     "output_type": "display_data"
    }
   ],
   "source": [
    "stds = []\n",
    "rets = []\n",
    "weights = []\n",
    "stds2 = []\n",
    "rets2 = []\n",
    "weights2 = []\n",
    "ret2 = [x/1000 for x in range(4000,10000)]\n",
    "for r_min in ret2:\n",
    "    std,weight= optimize_portfolio(n, means, covs,r_min)\n",
    "    stds.append(std)\n",
    "    weights.append(weight)\n",
    "    rets.append(r_min)\n",
    "for r_min in ret2:\n",
    "    std,weight= optimize_portfolio_with_short(n, means, covs,r_min)\n",
    "    stds2.append(std)\n",
    "    weights2.append(weight)\n",
    "    rets2.append(r_min)\n",
    "plt.figure(figsize=[10,6])\n",
    "plt.plot(stds,rets,label='With Short Sell')\n",
    "plt.plot(stds2,rets2,label='Without Short Sell')\n",
    "plt.legend()\n",
    "plt.show()"
   ]
  }
 ],
 "metadata": {
  "kernelspec": {
   "display_name": "Python 3",
   "language": "python",
   "name": "python3"
  },
  "language_info": {
   "codemirror_mode": {
    "name": "ipython",
    "version": 3
   },
   "file_extension": ".py",
   "mimetype": "text/x-python",
   "name": "python",
   "nbconvert_exporter": "python",
   "pygments_lexer": "ipython3",
   "version": "3.6.3"
  }
 },
 "nbformat": 4,
 "nbformat_minor": 2
}
